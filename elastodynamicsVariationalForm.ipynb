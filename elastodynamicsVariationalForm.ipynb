{
 "cells": [
  {
   "cell_type": "markdown",
   "metadata": {},
   "source": [
    "# Governing equations\n",
    "\\begin{alignat}{2}\n",
    "    &\\rho \\ddot{\\mathbf{u}} = \\text{div}[\\mathbf{T}] + \\rho b &&\\qquad in \\qquad \\Omega \\\\ \\\\\n",
    "    &\\mathbf{u}(\\mathbf{x}) = \\mathbf{u}^{\\mathrm{p}}(\\mathbf{x}) && \\qquad on \\qquad \\Gamma^D \\\\ \\\\\n",
    "    &{\\textbf{T}}\\hat{\\mathbf{n}}(x) = \\mathbf{t}^{\\mathrm{p}}(\\mathbf{x}) && \\qquad on \\qquad \\Gamma^N \\\\ \\\\\n",
    "    &u(\\mathbf{x},t=0) = u_0(x) && \\qquad in \\qquad \\Omega \\\\ \\\\\n",
    "    &\\frac{\\partial{\\mathbf{u}}}{\\partial{t}}(\\mathbf{x},t=0) = v_0(x) && \\qquad in \\qquad \\Omega\n",
    "\\end{alignat}"
   ]
  },
  {
   "cell_type": "markdown",
   "metadata": {},
   "source": [
    "# Newmark Equations\n",
    "\\begin{alignat}{2}\n",
    "&\\\\\n",
    "&{\\mathbf{u}}^{(n+1)} = {\\mathbf{u}}^{(n)} + \\Delta t {\\mathbf{v}}^{(n)} + \\frac{(\\Delta t)^2}{2}\\Big[(1-2\\beta){\\mathbf{a}}^{(n)} + 2\\beta {\\mathbf{a}}^{(n+1)}\\Big]\\\\\n",
    "\\\\\n",
    "&{\\mathbf{v}}^{(n+1)} = {\\mathbf{v}}^{(n)} + \\Delta t \\Big[(1-\\gamma){\\mathbf{a}}^{(n)} + \\gamma {\\mathbf{a}}^{(n+1)}\\Big]\\\\\n",
    "\\\\\n",
    "&{\\mathbf{a}}^{(n+1)} = \\frac{1}{\\beta\\Delta t^2}\\left\\{\\mathbf{u}^{(n+1)} - \\mathbf{u}^{(n)} - \\Delta t {\\mathbf{v}}^{(n)} \\right\\} - \\frac{(1-2\\beta)}{2\\beta}{\\mathbf{a}}^{(n)}\n",
    "\\end{alignat}"
   ]
  },
  {
   "cell_type": "markdown",
   "metadata": {},
   "source": [
    "# Constitutive Equations\n",
    "For plane strain:$\\quad \\mathbf{T} = \\lambda\\mathrm{tr}[\\mathbf{E}]\\mathbf{I} + 2\\mu\\mathbf{E}$\n",
    "\\begin{alignat}{1}\n",
    "\\lambda = \\frac{\\mathrm{E}\\nu}{(1+\\nu)(1-2\\nu)} \\quad \\mu = \\frac{\\mathrm{E}}{2(1+\\nu)}\\\\\n",
    "\\mathrm{E},\\nu ~\\text{are Young's modulus and Poissons ratio}\n",
    "\\end{alignat}\n",
    "\n",
    "For plane stress:$\\quad \\mathbf{T} = \\lambda^*\\mathrm{tr}[\\mathbf{E}]\\mathbf{I} + 2\\mu\\mathbf{E}$\n",
    "\\begin{alignat}{2}\n",
    "&\\lambda^* = \\frac{2\\lambda\\mu}{\\lambda+2\\mu}\n",
    "\\end{alignat}\n",
    "\\begin{alignat}{2}\n",
    "\\mathbf{E} = \\frac{1}{2}\\left(\\mathrm{grad}[\\mathbf{u}]+\\mathrm{grad}{[\\mathbf{u}]}^{\\mathrm{T}}\\right)\n",
    "\\end{alignat}\n"
   ]
  },
  {
   "cell_type": "markdown",
   "metadata": {},
   "source": [
    "# Variational forms\n",
    "\n",
    "\\begin{alignat}{2}\n",
    "&\\text{Bilinear Form} &&= \\int_{\\Omega}~\\frac{\\rho}{\\beta\\Delta t^2}~({w\\cdot u^{n+1}})d\\Omega~+~\\int_{\\Omega}~\\lambda~\\text{div}{[w]}~\\text{div}{[u^{n+1}]}d\\Omega~+~\\int_{\\Omega}~\\mu~\\left\\{\\text{grad}[w]~\\cdot~\\left(\\text{grad}[u^{n+1}]~+~\\text{grad}[u^{n+1}]^T\\right)\\right\\}d\\Omega\\\\\n",
    "\\\\\n",
    "&\\text{Linear Functional} &&= \\int_{\\Omega}\\frac{\\rho}{\\beta \\Delta t^2}(w\\cdot u^n) d\\Omega~+~\\int_{\\Omega}\\frac{\\rho}{\\beta \\Delta t}(w\\cdot v^n) d\\Omega~+~\\int_{\\Omega}\\frac{\\rho(1 - 2\\beta)}{2\\beta}(w\\cdot a^n) d\\Omega - \\int_{d\\Omega} (w\\cdot t) d\\Gamma\n",
    "\\end{alignat}\n",
    "\n",
    "\n",
    "\\begin{alignat}{2}\n",
    "{factor}_1 = \\frac{\\rho}{\\beta \\Delta t^2}\\qquad {factor}_2 = \\frac{\\rho}{\\beta \\Delta t}\\qquad {factor}_3 = \\frac{\\rho(1 - 2\\beta)}{2\\beta}\n",
    "\\end{alignat}\n"
   ]
  },
  {
   "cell_type": "code",
   "execution_count": 1,
   "metadata": {},
   "outputs": [
    {
     "name": "stdout",
     "output_type": "stream",
     "text": [
      "Populating the interactive namespace from numpy and matplotlib\n"
     ]
    }
   ],
   "source": [
    "%pylab inline\n",
    "%matplotlib notebook\n",
    "import numpy as np\n",
    "import random\n",
    "import math\n",
    "from pdb import set_trace as bp"
   ]
  },
  {
   "cell_type": "code",
   "execution_count": 2,
   "metadata": {},
   "outputs": [],
   "source": [
    "from mshr import *\n",
    "from dolfin import *"
   ]
  },
  {
   "cell_type": "code",
   "execution_count": 3,
   "metadata": {},
   "outputs": [
    {
     "name": "stdout",
     "output_type": "stream",
     "text": [
      "rm: cannot remove '*.pvd': No such file or directory\r\n",
      "rm: cannot remove '*.vtu': No such file or directory\r\n"
     ]
    }
   ],
   "source": [
    "rm *.pvd *.vtu"
   ]
  },
  {
   "cell_type": "code",
   "execution_count": 4,
   "metadata": {},
   "outputs": [],
   "source": [
    "# Form compiler options\n",
    "parameters[\"form_compiler\"][\"cpp_optimize\"] = True\n",
    "parameters[\"form_compiler\"][\"optimize\"] = True"
   ]
  },
  {
   "cell_type": "code",
   "execution_count": 5,
   "metadata": {},
   "outputs": [],
   "source": [
    "\"\"\"\n",
    "Lx & Ly : length in X and Y direction\n",
    "base : original domain\n",
    "numCircles : a counter to stop the mapping to not run forever\n",
    "mu,sigma : mean and standard deviation of inclusions\n",
    "porosity :  target porosity\n",
    "currentPorosity : calculated porosity at a perticular point\n",
    "offset : to make circles not go out of domain\n",
    "\"\"\"\n",
    "Lx,Ly = 1., 0.1\n",
    "nx = 20\n",
    "ny = np.ceil(nx*Ly)\n",
    "\n",
    "model = \"PlaneStress\"\n",
    "# model = \"PlaneStrain\"\n",
    "\n",
    "FORCED = 0\n",
    "longitudinal = 0\n",
    "\n",
    "shear = int(not longitudinal)\n",
    "\n",
    "domain = Rectangle(Point(0, 0), Point(Lx, Ly))\n",
    "\n",
    "if FORCED == 0:\n",
    "    d0 = 1e-3\n",
    "    p0 = 0\n",
    "else:\n",
    "    p0 = 1e3\n",
    "    d0 = 0\n",
    "\n",
    "E = 30e9\n",
    "rho = 3.15e3\n",
    "nu = 0.25\n",
    "\n",
    "lmda = (E*nu) / ((1+nu)*(1 - (2*nu)))\n",
    "\n",
    "mu = E/(2*(1+nu))\n",
    "\n",
    "if model == \"PlaneStress\":\n",
    "    lmda = 2*mu*lmda/(lmda+2*mu)\n",
    "\n",
    "T = 1e-3\n",
    "nT = 100\n",
    "dt = T/nT\n",
    "\n",
    "tForce = 0.3*T\n",
    "\n",
    "t = np.linspace(0, T, nT,endpoint=True)\n",
    "\n",
    "Energies = np.zeros((nT,4))\n",
    "tip = (1,0)\n",
    "dispTip = np.zeros((nT,2))\n",
    "\n",
    "\n",
    "beta,gamma = 0.25,0.5\n",
    "\n",
    "omega,dOmega = 1,2\n",
    "\n",
    "numCircles = 500\n",
    "poreMu,poreSigma = 0.25,0.0001\n",
    "location = [0,0]\n",
    "poreDiameter = []\n",
    "numCir = int(0)\n",
    "currentInclusionVolume = 0\n",
    "offset = 0.5*poreMu#+poreSigma\n",
    "\n",
    "inclusionVolume = 0."
   ]
  },
  {
   "cell_type": "code",
   "execution_count": 6,
   "metadata": {},
   "outputs": [
    {
     "name": "stdout",
     "output_type": "stream",
     "text": [
      "Total time =  0.001\n",
      "Time step =  1e-05\n"
     ]
    }
   ],
   "source": [
    "print(\"Total time = \",T)\n",
    "print(\"Time step = \",dt)\n"
   ]
  },
  {
   "cell_type": "code",
   "execution_count": 7,
   "metadata": {},
   "outputs": [],
   "source": [
    "if inclusionVolume>0:\n",
    "    while numCir<numCircles:\n",
    "\n",
    "        xlocation = Lx * np.random.rand()\n",
    "        ylocation = Lx * np.random.rand()\n",
    "\n",
    "        if xlocation < offset or xlocation > Lx - offset:\n",
    "            continue\n",
    "\n",
    "        if ylocation < offset or ylocation > Ly - offset:\n",
    "            continue\n",
    "        dia = np.random.normal(poreMu, poreSigma, 1)\n",
    "\n",
    "        if numCir>1:\n",
    "            distance = np.sqrt((xlocation-location[:,0])**2 + (ylocation-location[:,1])**2)\n",
    "            check = 0.5*dia > (1-((0.5*poreDiameter)\n",
    "                                  /distance))*distance\n",
    "            cond = any(check)\n",
    "            if cond==True:\n",
    "                continue\n",
    "\n",
    "        currentInclusionVolume = (currentInclusionVolume + 0.25*3.14*dia**2)\n",
    "        if currentInclusionVolume >= inclusionVolume:\n",
    "            break\n",
    "        currentlocation = [xlocation,ylocation]\n",
    "        poreDiameter = np.concatenate((poreDiameter, dia),axis=0)\n",
    "        location = np.vstack((location,currentlocation))\n",
    "\n",
    "        if numCir==0:\n",
    "            location=location[1:,:]\n",
    "\n",
    "        numCir += 1\n",
    "    print(\"Number of inclusions = \",numCir)\n",
    "    print(\"Porosity acheived = \",currentInclusionVolume.tolist())\n",
    "\n",
    "    for i in range(numCir):\n",
    "        hole = Circle(Point(location[i,0],location[i,1]), 0.5*poreDiameter[i])\n",
    "        domain = domain - hole"
   ]
  },
  {
   "cell_type": "code",
   "execution_count": 8,
   "metadata": {
    "scrolled": false
   },
   "outputs": [
    {
     "data": {
      "image/png": "[encoded data removed]",
      "text/plain": [
       "<Figure size 800x600 with 1 Axes>"
      ]
     },
     "metadata": {},
     "output_type": "display_data"
    }
   ],
   "source": [
    "mesh = generate_mesh(domain,20)\n",
    "# mesh = RectangleMesh(Point(0,0),Point(Lx,Ly),int(nx),int(ny))\n",
    "figure(num=None, figsize=(8, 6), dpi=100, facecolor='w', edgecolor='k')\n",
    "plot(mesh)\n",
    "boundaries = MeshFunction(\"size_t\",mesh, mesh.topology().dim()-1)\n",
    "solSpace = VectorFunctionSpace(mesh,\"CG\",1)"
   ]
  },
  {
   "cell_type": "code",
   "execution_count": null,
   "metadata": {},
   "outputs": [
    {
     "name": "stdout",
     "output_type": "stream",
     "text": [
      "Notation dx[meshfunction] is deprecated. Please use dx(subdomain_data=meshfunction) instead.\n"
     ]
    }
   ],
   "source": [
    "class left_bnd(SubDomain):\n",
    "    def inside(self, x, on_boundary):\n",
    "        return on_boundary and near(x[0],0.0)\n",
    "\n",
    "class right_bnd(SubDomain):\n",
    "    def inside(self, x, on_boundary):\n",
    "        return on_boundary and near (x[0],Lx)\n",
    "\n",
    "class top_bnd(SubDomain):\n",
    "    def inside(self, x, on_boundary):\n",
    "        return on_boundary and near (x[1],Ly)\n",
    "    \n",
    "class bottom_bnd(SubDomain):\n",
    "    def inside(self, x, on_boundary):\n",
    "        return on_boundary and near (x[1],0)\n",
    "\n",
    "left = left_bnd()\n",
    "right = right_bnd()\n",
    "top = top_bnd()\n",
    "bottom = bottom_bnd()\n",
    "\n",
    "boundaries.set_all(0)\n",
    "left.mark(boundaries,1)\n",
    "right.mark(boundaries,2)\n",
    "bottom.mark(boundaries,3)\n",
    "top.mark(boundaries,4)\n",
    "\n",
    "ds = Measure(\"ds\")[boundaries]\n",
    "\n",
    "bcl = DirichletBC(solSpace,Constant((0.0,0.0)),left)"
   ]
  },
  {
   "cell_type": "code",
   "execution_count": null,
   "metadata": {},
   "outputs": [],
   "source": [
    "testFunc = TestFunction(solSpace)\n",
    "trialFunc = TrialFunction(solSpace)\n",
    "\n",
    "# dispBefore = Function(solSpace,name=\"Displacement\")\n",
    "if FORCED==0:\n",
    "    dispBefore = interpolate(Expression((\"Longitudinal*d0*x[0]\",\"Shear*d0*x[0]\"),\\\n",
    "                                        d0=d0,Longitudinal=longitudinal,\\\n",
    "                                        Shear=shear,degree=4),solSpace)\n",
    "else:\n",
    "    dispBefore = Function(solSpace,name=\"Displacement\")\n",
    "\n",
    "velBefore = Function(solSpace,name=\"Velocity\")\n",
    "accBefore = Function(solSpace,name=\"Acceleration\")"
   ]
  },
  {
   "cell_type": "code",
   "execution_count": null,
   "metadata": {},
   "outputs": [],
   "source": [
    "dispTip[0,0],dispTip[0,1] = dispBefore(tip)[0],dispBefore(tip)[1]"
   ]
  },
  {
   "cell_type": "code",
   "execution_count": null,
   "metadata": {},
   "outputs": [],
   "source": [
    "# # Stress tensor\n",
    "def sigma(r):\n",
    "    return 2.0*mu*sym(grad(r)) + lmda*tr(sym(grad(r)))*Identity(len(r))\n",
    "\n",
    "def epslon(r):\n",
    "    return sym(grad(r))*Identity(len(r))\n",
    "\n",
    "# # Mass form\n",
    "def m(u, w):\n",
    "    return rho*inner(u, w)*dx\n",
    "\n",
    "# # Elastic stiffness form\n",
    "def k(u, w):\n",
    "    return inner(sigma(u), sym(grad(w)))*dx\n",
    "\n",
    "def p(step):\n",
    "#     P_ = Constant((1.0,0.0))\n",
    "#     P_ = Expression((\"tc <= tF ? p0 : 0\",\"0.0\"),tc=t[step], tF=tForce, p0=p0,degree=2)\n",
    "#     P_ = Expression((\"tc <= tF ? p0*tc/tF : 0\",\"0.\"), tc=t[step], tF=tForce, p0=p0, degree=0)\n",
    "    P_ = Expression((\"tc <= tF ? Longitudinal*p0*sin(omega*pi*tc/tF)*sin(dOmega*pi*tc/tF) : 0\",\\\n",
    "                     \"tc <= tF ? Shear*p0*sin(omega*pi*tc/tF)*sin(dOmega*pi*tc/tF) : 0\"),\\\n",
    "                    tc=t[step],tF=tForce,p0=p0,omega=omega,dOmega=dOmega,degree=2,\\\n",
    "                    Longitudinal=longitudinal,Shear=shear)\n",
    "    return P_\n",
    "\n",
    "def fExt(testFunc,step):\n",
    "    forceApplied = inner(p(step),testFunc)*ds(2)\n",
    "    force = assemble(forceApplied)\n",
    "    forceVec=force.get_local()\n",
    "#     print([step,forceVec])\n",
    "    return forceVec"
   ]
  },
  {
   "cell_type": "code",
   "execution_count": null,
   "metadata": {},
   "outputs": [],
   "source": [
    "def update_Deform(dispAfter, dispBefore,velBefore,accBefore,beta, gamma, dt):\n",
    "    \"\"\"Update fields at the end of each time step.\"\"\"\n",
    "\n",
    "    # Get vectors (references)\n",
    "    dispAfter_vec, dispBefore_vec  = dispAfter.vector(), dispBefore.vector()\n",
    "    velBefore_vec, accBefore_vec = velBefore.vector(), accBefore.vector()\n",
    "    \n",
    "    # Update acceleration and velocity\n",
    "    \n",
    "    accAfter_vec = (1.0/(2.0*beta))*( (dispAfter_vec - dispBefore_vec \\\n",
    "                                      - (velBefore_vec*dt))/(0.5*dt*dt) \\\n",
    "                                     - (1.0-2.0*beta)*accBefore_vec )\n",
    "\n",
    "    velAfter_vec = dt*((1.0-gamma)*accBefore_vec + gamma*accAfter_vec) + velBefore_vec\n",
    "\n",
    "    velBefore.vector()[:], accBefore.vector()[:] = velAfter_vec, accAfter_vec\n",
    "    dispBefore.vector()[:] = dispAfter.vector()"
   ]
  },
  {
   "cell_type": "code",
   "execution_count": null,
   "metadata": {},
   "outputs": [],
   "source": [
    "K = PETScMatrix()\n",
    "M = PETScMatrix()\n",
    "\n",
    "assemble(k(trialFunc,testFunc), tensor=K)\n",
    "assemble(m(trialFunc,testFunc), tensor=M)\n",
    "bcl.apply(K)\n",
    "bcl.apply(M)"
   ]
  },
  {
   "cell_type": "code",
   "execution_count": null,
   "metadata": {},
   "outputs": [],
   "source": [
    "ep = 0.5*np.dot(dispBefore.vector(),np.dot(K.array(),dispBefore.vector()))\n",
    "ek = 0.5*np.dot(velBefore.vector(),np.dot(M.array(),velBefore.vector()))\n",
    "if FORCED==1:\n",
    "    eExt = np.dot(fExt(testFunc,0),velBefore.vector())\n",
    "else:\n",
    "    eExt = ep+ek\n",
    "    \n",
    "Energies[0,:] = [ep,ek,eExt,ep+ek]"
   ]
  },
  {
   "cell_type": "code",
   "execution_count": null,
   "metadata": {},
   "outputs": [
    {
     "name": "stdout",
     "output_type": "stream",
     "text": [
      "600.0\n",
      "--Call--\n",
      "> /usr/local/lib/python3.6/dist-packages/IPython/core/displayhook.py(247)__call__()\n",
      "-> def __call__(self, result=None):\n"
     ]
    }
   ],
   "source": [
    "print(ep+ek)\n",
    "bp()"
   ]
  },
  {
   "cell_type": "code",
   "execution_count": null,
   "metadata": {},
   "outputs": [],
   "source": [
    "dispAfter = Function(solSpace)\n",
    "velAfter = Function(solSpace)\n",
    "accAfter = Function(solSpace)\n",
    "\n",
    "\n",
    "forceApplied = inner(p(2),testFunc)*ds(2)\n",
    "force = assemble(forceApplied)\n",
    "forceVec=force.get_local()\n",
    "  \n",
    "\n",
    "aI = np.linalg.solve(M.array(), fExt(testFunc,0)-np.dot(K.array(),dispBefore.vector()))\n",
    "\n",
    "accBefore.vector()[:] = aI"
   ]
  },
  {
   "cell_type": "code",
   "execution_count": null,
   "metadata": {},
   "outputs": [],
   "source": [
    "factor1 = 1/(beta*dt*dt)\n",
    "factor2 = 1/(beta*dt)\n",
    "factor3 = (1 - 2*beta)/(2*beta)\n",
    "\n",
    "print('beta=',beta,'gamma=',gamma,'dt=',dt)\n",
    "\n",
    "a =  factor1*rho*dot(testFunc,trialFunc) * dx +\\\n",
    "     lmda*div(testFunc)*div(trialFunc)*dx+\\\n",
    "     mu*inner(grad(testFunc),(grad(trialFunc)+grad(trialFunc).T))*dx"
   ]
  },
  {
   "cell_type": "code",
   "execution_count": null,
   "metadata": {},
   "outputs": [],
   "source": [
    "xdmf_file = XDMFFile(\"results/elastodynamics_results_{}_forced_{}_longitudinal_{}_shear_{}.xdmf\".format(\\\n",
    "                                model,FORCED,longitudinal,shear))\n",
    "\n",
    "xdmf_file.parameters[\"flush_output\"] = True\n",
    "xdmf_file.parameters[\"functions_share_mesh\"] = True\n",
    "xdmf_file.parameters[\"rewrite_function_mesh\"] = False\n",
    "dispBefore.rename(\"Displacement\",\"\")\n",
    "xdmf_file.write(dispBefore, 0.)\n",
    "xdmf_file.write(velBefore, 0.)\n",
    "xdmf_file.write(accBefore, 0.)"
   ]
  },
  {
   "cell_type": "code",
   "execution_count": null,
   "metadata": {},
   "outputs": [],
   "source": [
    "for i in np.arange(1,nT):\n",
    "    tt = t[i]\n",
    "    L = factor1*rho*inner(testFunc,dispBefore)*dx+\\\n",
    "        factor2*rho*inner(testFunc,velBefore)*dx +\\\n",
    "        factor3*rho*inner(testFunc,accBefore)*dx - inner(p(i),testFunc)*ds(2)\n",
    "    \n",
    "    solve(a == L,dispAfter,bcl)\n",
    "        \n",
    "    update_Deform(dispAfter, dispBefore, velBefore, accBefore, beta, gamma, dt)   \n",
    "    \n",
    "    dispTip[i,0],dispTip[i,1] = dispBefore(tip)[0],dispBefore(tip)[1]\n",
    "\n",
    "\n",
    "    dispBefore.rename(\"Displacement\",\"\")\n",
    "    xdmf_file.write(dispBefore, i)\n",
    "    xdmf_file.write(velBefore, i)\n",
    "    xdmf_file.write(accBefore, i)\n",
    "    \n",
    "    ep = 0.5*np.dot(dispBefore.vector(),np.dot(K.array(),dispBefore.vector()))\n",
    "    ek = 0.5*np.dot(velBefore.vector(),np.dot(M.array(),velBefore.vector()))\n",
    "    \n",
    "    if FORCED ==1:\n",
    "        eExt = -np.dot(fExt(testFunc,i),velBefore.vector())\n",
    "    else:\n",
    "        eExt = eExt\n",
    "        \n",
    "    Energies[i,:] = [ep,ek,eExt,ep+ek]"
   ]
  },
  {
   "cell_type": "code",
   "execution_count": null,
   "metadata": {
    "scrolled": false
   },
   "outputs": [],
   "source": [
    "fig, ax1 = plt.subplots(num=None, figsize=(10, 6), dpi=100, facecolor='w', edgecolor='k')\n",
    "grid(color='k',linewidth=0.2)\n",
    "ax1.set_xlabel(\"Time\",size=16,fontfamily='serif')\n",
    "ax1.set_ylabel(\"Internal Energy\",color='m',size=16,fontfamily='serif')\n",
    "ax1.plot(t,Energies[:,0],':b',t,Energies[:,1],':r',t,Energies[:,3],'m',linewidth=3)\n",
    "plt.xticks(color='k', size=16,fontfamily='serif')\n",
    "plt.yticks(color='m', size=16,fontfamily='serif')\n",
    "ax1.legend((\"Potential Energy\",\"Kinetic Energy\"),fontsize=16)\n",
    "if FORCED ==1:\n",
    "    ax2 = ax1.twinx()  # instantiate a second axes that shares the same x-axis\n",
    "    ax2.set_ylabel('External Energy',color='g',size=16,fontfamily='serif')  # we already handled the x-label with ax1\n",
    "    ax2.plot(t, Energies[:,2],'g',linewidth=3)\n",
    "    plt.yticks(color='g', size=16,fontfamily='serif')\n",
    "else:\n",
    "    ax1.plot(t, Energies[:,2],'k',linewidth=1)\n",
    "    \n",
    "np.savetxt(\"results/energy_Continuum_{}_forced_{}_longitudinal_{}_shear_{}.dat\".format(\\\n",
    "                                model,FORCED,longitudinal,shear), Energies)\n",
    "# plt.savefig(\"results/energyContinuum_{}_forced_{}.eps\".format(model,FORCED),bbox_inches='tight')"
   ]
  },
  {
   "cell_type": "code",
   "execution_count": null,
   "metadata": {},
   "outputs": [],
   "source": [
    "figure(num=None, figsize=(8, 6), dpi=100, facecolor='w', edgecolor='k')\n",
    "plt.plot(t,dispTip[:,0],'m',linewidth=3)\n",
    "plt.xlabel(\"Time\",size=16,fontfamily='serif')\n",
    "plt.ylabel(\"Displacement\",size=16,fontfamily='serif')\n",
    "plt.xticks(color='k', size=16,fontfamily='serif')\n",
    "plt.yticks(color='k', size=16,fontfamily='serif')\n",
    "plt.legend(('Displacement X'),fontsize=16)\n",
    "np.savetxt(\"results/tipDisplacement_Continuum_{}_forced_{}_longitudinal_{}_shear_{}.dat\".format(\\\n",
    "                                model,FORCED,longitudinal,shear), dispTip)\n",
    "# plt.savefig('displacement.eps',bbox_inches='tight')"
   ]
  },
  {
   "cell_type": "code",
   "execution_count": null,
   "metadata": {},
   "outputs": [],
   "source": [
    "# tForce-t\n",
    "# f = heaviside(tForce-t,0)*np.sin(omega*pi*t/tForce)*np.sin(dOmega*pi*t/tForce)\n",
    "# figure(num=None, figsize=(8, 6), dpi=100, facecolor='w', edgecolor='k')\n",
    "# plt.plot(t,f,linewidth=3)"
   ]
  },
  {
   "cell_type": "code",
   "execution_count": null,
   "metadata": {},
   "outputs": [],
   "source": [
    "\n"
   ]
  },
  {
   "cell_type": "code",
   "execution_count": null,
   "metadata": {},
   "outputs": [],
   "source": []
  }
 ],
 "metadata": {
  "kernelspec": {
   "display_name": "Python 3",
   "language": "python",
   "name": "python3"
  },
  "language_info": {
   "codemirror_mode": {
    "name": "ipython",
    "version": 3
   },
   "file_extension": ".py",
   "mimetype": "text/x-python",
   "name": "python",
   "nbconvert_exporter": "python",
   "pygments_lexer": "ipython3",
   "version": "3.6.7"
  }
 },
 "nbformat": 4,
 "nbformat_minor": 2
}
